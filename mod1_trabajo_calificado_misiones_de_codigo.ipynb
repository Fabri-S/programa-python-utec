{
  "nbformat": 4,
  "nbformat_minor": 0,
  "metadata": {
    "colab": {
      "provenance": [],
      "include_colab_link": true
    },
    "kernelspec": {
      "name": "python3",
      "display_name": "Python 3"
    },
    "language_info": {
      "name": "python"
    }
  },
  "cells": [
    {
      "cell_type": "markdown",
      "metadata": {
        "id": "view-in-github",
        "colab_type": "text"
      },
      "source": [
        "<a href=\"https://colab.research.google.com/github/Fabri-S/programa-python-utec/blob/main/mod1_trabajo_calificado_misiones_de_codigo.ipynb\" target=\"_parent\"><img src=\"https://colab.research.google.com/assets/colab-badge.svg\" alt=\"Open In Colab\"/></a>"
      ]
    },
    {
      "cell_type": "markdown",
      "source": [
        "<img src=\"https://posgrado.utec.edu.pe/sites/default/files/2023-08/Testimonial-home-2.jpg\" alt=\"HTML5 Icon\" width=\"900\" height=\"250\" >\n"
      ],
      "metadata": {
        "id": "dYz-CyepUcRS"
      }
    },
    {
      "cell_type": "markdown",
      "source": [
        "# **Trabajo Calificado: Misiones de Código**"
      ],
      "metadata": {
        "id": "tYd6BiWgUfLo"
      }
    },
    {
      "cell_type": "markdown",
      "source": [
        "**Contexto:**\n",
        "\n",
        "Eres desarrollador de un Simulador de Aventuras llamado Pythonia, un entorno virtual de entrenamiento diseñado para mejorar tus habilidades de programación. En este simulador, enfrentarás una serie de desafíos basados en situaciones de videojuegos y escenarios de aventura, donde deberás aplicar estructuras lógicas, condicionales, bucles y funciones para resolver problemas.\n",
        "\n"
      ],
      "metadata": {
        "id": "GtjjVTFRU6W1"
      }
    },
    {
      "cell_type": "markdown",
      "source": [
        "Cada ejercicio representa un reto independiente que simula eventos comunes en el desarrollo de videojuegos, sistemas de simulación y lógica de juegos interactivos."
      ],
      "metadata": {
        "id": "Ggayz2SXVXjt"
      }
    },
    {
      "cell_type": "markdown",
      "source": [
        "**Recomendaciones:**\n",
        "\n",
        "Utilizar buenas prácticas: comentarios, entradas y salidas limpias.\n",
        "\n",
        "Uso de funciones donde sea necesario."
      ],
      "metadata": {
        "id": "eAL1_dscUjd_"
      }
    },
    {
      "cell_type": "markdown",
      "source": [
        "**Ejercicio 1: Elige tu personaje (Variables y Entrada/Salida)**\n",
        "\n",
        "Crea un programa que permita al jugador elegir su personaje entre Mago, Guerrero o Arquero. Según la elección, muestra un mensaje personalizado con las estadísticas iniciales (vida, poder, defensa)."
      ],
      "metadata": {
        "id": "YpxJc_PoVc4c"
      }
    },
    {
      "cell_type": "code",
      "source": [
        "## INICIO DE CÓDIGO\n",
        "\n",
        "# Bienvenida al jugador\n",
        "print(\"¡Bienvenido al simulador de aventuras de Pythonia!\\n\")\n",
        "\n",
        "#Listado de personajes\n",
        "print(\"Por favor selecciona un personaje de la lista:\\n\")\n",
        "print(\"---Opciones disponibles---\")\n",
        "print(\"Mago\")\n",
        "print(\"Guerrero\")\n",
        "print(\"Arquero\")\n",
        "print(\"--------------------------\\n\")\n",
        "\n",
        "#Respuesta del usuario\n",
        "while True:\n",
        "  personaje = input(\"Ingrese el nombre del personaje que desea elegir: \").strip().lower()\n",
        "\n",
        "#Bucle para el selector de personajes\n",
        "  if personaje == \"mago\":\n",
        "    print(\"\\n Seleccionaste al Mago:\\n Vida: 60 \\n Poder: 70 \\n Defensa: 50\")\n",
        "    break\n",
        "  elif personaje == \"guerrero\":\n",
        "    print(\"\\n Seleccionaste al Guerrero:\\n Vida: 100 \\n Poder: 90 \\n Defensa: 80\")\n",
        "    break\n",
        "  elif personaje == \"arquero\":\n",
        "    print(\"\\n Seleccionaste al Arquero: \\n Vida: 50 \\n Poder: 40 \\n Defensa: 60\")\n",
        "    break\n",
        "  else:\n",
        "    print(\" \\n Personaje invalido\")\n",
        "\n",
        "## FIN DE CÓDIGO\n"
      ],
      "metadata": {
        "id": "GZrzl-7wVfkW",
        "colab": {
          "base_uri": "https://localhost:8080/"
        },
        "outputId": "41df36aa-b042-421e-9329-535f2f870f75"
      },
      "execution_count": null,
      "outputs": [
        {
          "output_type": "stream",
          "name": "stdout",
          "text": [
            "¡Bienvenido al simulador de aventuras de Pythonia!\n",
            "\n",
            "Por favor selecciona un personaje de la lista:\n",
            "\n",
            "---Opciones disponibles---\n",
            "Mago\n",
            "Guerrero\n",
            "Arquero\n",
            "--------------------------\n",
            "\n",
            "Ingrese el nombre del personaje que desea elegir: mago\n",
            "\n",
            " Seleccionaste al Mago:\n",
            " Vida: 60 \n",
            " Poder: 70 \n",
            " Defensa: 50\n"
          ]
        }
      ]
    },
    {
      "cell_type": "markdown",
      "source": [
        "**Ejercicio 2: La prueba del sabio (Condicionales)**\n",
        "\n",
        "El sabio te hace una pregunta: si traes menos de 50 monedas de oro, te expulsará; si llevas entre 50 y 100, te permitirá pasar; si llevas más de 100, te dará una poción.\n",
        "Crea el programa que lea las monedas y muestre el resultado."
      ],
      "metadata": {
        "id": "kvoGwX-QVgPr"
      }
    },
    {
      "cell_type": "code",
      "execution_count": null,
      "metadata": {
        "id": "3tg6KSK-UbUw",
        "colab": {
          "base_uri": "https://localhost:8080/"
        },
        "outputId": "fafa7e5e-4fb1-463d-a926-2219c388239b"
      },
      "outputs": [
        {
          "output_type": "stream",
          "name": "stdout",
          "text": [
            "Puedes pasar, tienes 64 monedas\n"
          ]
        }
      ],
      "source": [
        "## INICIO DE CÓDIGO\n",
        "\n",
        "#Generar un numero de monedas aleatorio\n",
        "import random\n",
        "monedas = random.randint(0,200)\n",
        "\n",
        "#Condiciones para la lectura del numero de monedas\n",
        "if monedas < 50:\n",
        "  print(f\"No puedes pasar, tienes {monedas} monedas\")\n",
        "elif monedas >= 50 and monedas <= 100:\n",
        "  print(f\"Puedes pasar, tienes {monedas} monedas\")\n",
        "elif monedas > 100:\n",
        "  print(f\"Tienes {monedas} monedas, toma esta pocion\")\n",
        "\n",
        "## FIN DE CÓDIGO"
      ]
    },
    {
      "cell_type": "markdown",
      "source": [
        "**Ejercicio 3: El puente infinito (Bucles While)**\n",
        "\n",
        "Diseña un programa que simule el cruce de un puente que cambia su estructura aleatoriamente. El jugador debe adivinar si el siguiente paso será seguro ('s') o peligroso ('p').\n",
        "El juego termina si el jugador elige 'salir' o si falla 3 veces."
      ],
      "metadata": {
        "id": "g7B02fWhVj4M"
      }
    },
    {
      "cell_type": "code",
      "source": [
        "## INICIO DE CÓDIGO\n",
        "\n",
        "#Se inicia en 0 la variable fallos\n",
        "import random\n",
        "fallos = 0\n",
        "\n",
        "#Instrucciones para el usuario\n",
        "print(\"¡Bienvenido al puente infinito! \\n\")\n",
        "print(\"Debe elegir su siguiente paso entre una de las siguientes opciones: \\n\")\n",
        "print(\"seguro, dijite 's'\\npeligroso, dijite 'p' \\n\")\n",
        "print(\"El juego termina si comete 3 fallos o si dijita 'salir' \\n\")\n",
        "\n",
        "#Inicio del bucle while\n",
        "while fallos < 3:\n",
        "  paso = random.choice(['s','p']) # Paso aleatorio\n",
        "  siguiente_paso = input(\"Ingrese su siguiente paso: \").strip().lower() #Decicion del usuario\n",
        "\n",
        "  #Condiciones del juego\n",
        "  if siguiente_paso == \"salir\":\n",
        "    print('Saliste del juego, ¡Gracias por jugar!')\n",
        "    break\n",
        "\n",
        "  if siguiente_paso == paso:\n",
        "    print(\"¡Adivinaste!, el paso fue:\",paso)\n",
        "\n",
        "  else:\n",
        "    fallos += 1\n",
        "    print(f\"Fallaste, el paso era'{paso}'. Fallos:{fallos}/3\")\n",
        "\n",
        "if fallos == 3:\n",
        "  print(\"Has fallado 3 veces, fin del juego\")\n",
        "\n",
        "## FIN DE CÓDIGO"
      ],
      "metadata": {
        "id": "9DRMWhDBVn71",
        "colab": {
          "base_uri": "https://localhost:8080/"
        },
        "outputId": "33fbeb62-beba-4f5b-cc01-09449523438a"
      },
      "execution_count": null,
      "outputs": [
        {
          "output_type": "stream",
          "name": "stdout",
          "text": [
            "¡Bienvenido al puente infinito! \n",
            "\n",
            "Debe elegir su siguiente paso entre una de las siguientes opciones: \n",
            "\n",
            "seguro, dijite 's'\n",
            "peligroso, dijite 'p' \n",
            "\n",
            "El juego termina si comete 3 fallos o si dijita 'salir' \n",
            "\n",
            "Ingrese su siguiente paso: s\n",
            "¡Adivinaste!, el paso fue: s\n",
            "Ingrese su siguiente paso: p\n",
            "Fallaste, el paso era's'. Fallos:1/3\n",
            "Ingrese su siguiente paso: p\n",
            "¡Adivinaste!, el paso fue: p\n",
            "Ingrese su siguiente paso: s\n",
            "Fallaste, el paso era'p'. Fallos:2/3\n",
            "Ingrese su siguiente paso: s\n",
            "Fallaste, el paso era'p'. Fallos:3/3\n",
            "Has fallado 3 veces, fin del juego\n"
          ]
        }
      ]
    },
    {
      "cell_type": "markdown",
      "source": [
        "**Ejercicio 4: El laberinto secreto (Bucle For y Range)**\n",
        "\n",
        "Crea un programa que muestre una cuenta regresiva desde 10 hasta 1 al estilo nivel de escape del laberinto. Cada número debe ir acompañado de un mensaje tipo \"Quedan X segundos para escapar\"."
      ],
      "metadata": {
        "id": "66qKXQwTVoZG"
      }
    },
    {
      "cell_type": "code",
      "source": [
        "## INICIO DE CÓDIGO\n",
        "import time #Para simular tiempo\n",
        "\n",
        "#Mensaje de alerta al usuario\n",
        "print(\"¡Se activo la cuenta regresiva del laberinto secreto!\" )\n",
        "\n",
        "#Inicio del bucle\n",
        "for i in range(10,0,-1):\n",
        "  print(f\"Quedan {i} segundos para escapar\")\n",
        "  time.sleep(1) #Tiempo de espera de 1 segundo\n",
        "\n",
        "#Mensaje al usuario cuando culmina el tiempo\n",
        "print(\"El tiempo se terminó\")\n",
        "\n",
        "## FIN DE CÓDIGO"
      ],
      "metadata": {
        "id": "i1S9WPmhVsEj",
        "colab": {
          "base_uri": "https://localhost:8080/"
        },
        "outputId": "93a3f9a5-589e-4975-9085-36540fd7b7b3"
      },
      "execution_count": null,
      "outputs": [
        {
          "output_type": "stream",
          "name": "stdout",
          "text": [
            "¡Se activo la cuenta regresiva del laberinto secreto!\n",
            "Quedan 10 segundos para escapar\n",
            "Quedan 9 segundos para escapar\n",
            "Quedan 8 segundos para escapar\n",
            "Quedan 7 segundos para escapar\n",
            "Quedan 6 segundos para escapar\n",
            "Quedan 5 segundos para escapar\n",
            "Quedan 4 segundos para escapar\n",
            "Quedan 3 segundos para escapar\n",
            "Quedan 2 segundos para escapar\n",
            "Quedan 1 segundos para escapar\n",
            "El tiempo se terminó\n"
          ]
        }
      ]
    },
    {
      "cell_type": "markdown",
      "source": [
        "**Ejercicio 5: Cofres encantados (Break y Continue)**\n",
        "\n",
        "Simula 10 cofres cerrados, pero uno de ellos es una trampa explosiva (elige aleatoriamente una posición).\n",
        "El jugador abre cofres uno por uno:\n",
        "\n",
        "* Si encuentra la trampa, termina el juego (break).\n",
        "\n",
        "* Si encuentra cofres vacíos, continúa (continue).\n",
        "\n",
        "* Si abre todos sin explotar, gana."
      ],
      "metadata": {
        "id": "5dL6C-x1VsYf"
      }
    },
    {
      "cell_type": "code",
      "source": [
        "## INICIO DE CÓDIGO\n",
        "\n",
        "#Importar random para los cofres aleatorios\n",
        "import random\n",
        "\n",
        "#Indicaciones para el usuario\n",
        "print(\"Bienvenido al juego de los cofres encantados \\n\")\n",
        "print(\"Se le daran 10 cofres encantados,pero uno de ellos es una trampa \\n\")\n",
        "print(\"Debe abrir los cofres sin activar el cofre explosivo \\n\")\n",
        "\n",
        "#Generar la trampa aleatoriamente\n",
        "trampa = random.randint(1,10)\n",
        "\n",
        "#Contador de cofres abiertos\n",
        "cofres_abiertos = 0\n",
        "\n",
        "#Bucle para la apertura de los cofres\n",
        "for i in range(1,11):\n",
        "  cofre = input(f\"\\n[{i}/10] Ingrese el numero de cofre que desea abrir: \") #Entrada del usuario\n",
        "  if not cofre.isdigit():\n",
        "    print(\"Entrada inválida\")\n",
        "    continue\n",
        "  cofre = int(cofre)\n",
        "  if cofre == trampa:\n",
        "    print(\"\\n Activaste la trampa explosiva,fin del juego\")\n",
        "    break\n",
        "  else:\n",
        "    print(\"\\n El cofre esta vacio, puede continuar\")\n",
        "    continue\n",
        "else:\n",
        "  print(\"\\n Has abierto todos los cofres sin explotar, ganaste\")\n",
        "\n",
        "## FIN DE CÓDIGO"
      ],
      "metadata": {
        "id": "d0hcbl0_V2BI",
        "colab": {
          "base_uri": "https://localhost:8080/"
        },
        "outputId": "f9e4bc5f-eb0c-4da1-9171-f19c81e0cdd0"
      },
      "execution_count": 31,
      "outputs": [
        {
          "output_type": "stream",
          "name": "stdout",
          "text": [
            "Bienvenido al juego de los cofres encantados \n",
            "\n",
            "Se le daran 10 cofres encantados,pero uno de ellos es una trampa \n",
            "\n",
            "Debe abrir los cofres sin activar el cofre explosivo \n",
            "\n",
            "\n",
            "[1/10] Ingrese el numero de cofre que desea abrir: 1\n",
            "\n",
            " El cofre esta vacio, puede continuar\n",
            "\n",
            "[2/10] Ingrese el numero de cofre que desea abrir: 10\n",
            "\n",
            " El cofre esta vacio, puede continuar\n",
            "\n",
            "[3/10] Ingrese el numero de cofre que desea abrir: 2\n",
            "\n",
            " El cofre esta vacio, puede continuar\n",
            "\n",
            "[4/10] Ingrese el numero de cofre que desea abrir: 9\n",
            "\n",
            " El cofre esta vacio, puede continuar\n",
            "\n",
            "[5/10] Ingrese el numero de cofre que desea abrir: 3\n",
            "\n",
            " El cofre esta vacio, puede continuar\n",
            "\n",
            "[6/10] Ingrese el numero de cofre que desea abrir: 8\n",
            "\n",
            " El cofre esta vacio, puede continuar\n",
            "\n",
            "[7/10] Ingrese el numero de cofre que desea abrir: 4\n",
            "\n",
            " El cofre esta vacio, puede continuar\n",
            "\n",
            "[8/10] Ingrese el numero de cofre que desea abrir: 7\n",
            "\n",
            " El cofre esta vacio, puede continuar\n",
            "\n",
            "[9/10] Ingrese el numero de cofre que desea abrir: 5\n",
            "\n",
            " El cofre esta vacio, puede continuar\n",
            "\n",
            "[10/10] Ingrese el numero de cofre que desea abrir: 6\n",
            "\n",
            " Activaste la trampa explosiva,fin del juego\n"
          ]
        }
      ]
    },
    {
      "cell_type": "markdown",
      "source": [
        "**Ejercicio 6: Pociones mágicas (Funciones básicas)**\n",
        "\n",
        "Crea una función usar_pocion(tipo) que permita al jugador elegir entre 'vida', 'fuerza' o 'velocidad', y retorne el efecto de la poción.\n",
        "Luego, pide al usuario que elija una poción y muestra el resultado llamando a la función."
      ],
      "metadata": {
        "id": "94yOz-rKV2gp"
      }
    },
    {
      "cell_type": "code",
      "source": [
        "## INICIO DE CÓDIGO\n",
        "\n",
        "#Definicion de la funcion\n",
        "def usar_pocion(tipo):\n",
        "  if tipo == \"vida\":\n",
        "    return \"Recupera la vida al maximo\"\n",
        "  elif tipo == \"fuerza\":\n",
        "    return \"Aumenta tu fueza en un 50%\"\n",
        "  elif tipo == \"velocidad\":\n",
        "    return \"Te mueves el doble de rapido durante 1 minuto\"\n",
        "  else:\n",
        "    return \"Pocion no encontrada\"\n",
        "\n",
        "#Solicitud al usuario\n",
        "print(\"Elige una pocion para usar: \\n\")\n",
        "print(\"Vida\")\n",
        "print(\"Fuerza\")\n",
        "print(\"Velocidad\")\n",
        "\n",
        "#Mostrar el resultado de la posion elegida\n",
        "eleccion= input(\"Ingrese el tipo de pocion que desea usar: \").strip().lower()\n",
        "resultado = usar_pocion(eleccion)\n",
        "print(resultado)\n",
        "\n",
        "## FIN DE CÓDIGO"
      ],
      "metadata": {
        "id": "NQKm0w5iV4Zz",
        "colab": {
          "base_uri": "https://localhost:8080/"
        },
        "outputId": "d1aa4e02-204b-4dca-cc5d-0bc8188f01b7"
      },
      "execution_count": 20,
      "outputs": [
        {
          "output_type": "stream",
          "name": "stdout",
          "text": [
            "Elige una pocion para usar: \n",
            "\n",
            "Vida\n",
            "Fuerza\n",
            "Velocidad\n",
            "Ingrese el tipo de pocion que desea usar: Fuerza\n",
            "Aumenta tu fueza en un 50%\n"
          ]
        }
      ]
    },
    {
      "cell_type": "markdown",
      "source": [
        "**Ejercicio 7: Calculadora de daño crítico (Funciones con parámetros)**\n",
        "\n",
        "Crea una función calcular_danio(base, critico) que reciba el daño base y un porcentaje de crítico, devolviendo el daño total.\n",
        "El usuario ingresará el daño base y el porcentaje crítico."
      ],
      "metadata": {
        "id": "Qdnbnm4nV44h"
      }
    },
    {
      "cell_type": "code",
      "source": [
        "## INICIO DE CÓDIGO\n",
        "\n",
        "#Definición de la función\n",
        "def calcular_danio(base,critico):\n",
        "  return base+(base*critico/100)\n",
        "\n",
        "#Solicitud al usuario\n",
        "base = float(input(\"Ingrese el daño base: \"))\n",
        "critico = float(input(\"Ingrese el porcentaje critico: \"))\n",
        "\n",
        "#Mostrar el resultado\n",
        "resultado = calcular_danio(base,critico)\n",
        "print(f\"El daño total es: {resultado}\")\n",
        "\n",
        "\n",
        "## FIN DE CÓDIGO"
      ],
      "metadata": {
        "id": "leaLQJWrV8Tx",
        "colab": {
          "base_uri": "https://localhost:8080/"
        },
        "outputId": "68f1f9d2-f194-48e1-d0d7-05fa74e79ebe"
      },
      "execution_count": 22,
      "outputs": [
        {
          "output_type": "stream",
          "name": "stdout",
          "text": [
            "Ingrese el daño base: 50\n",
            "Ingrese el porcentaje critico: 30\n",
            "El daño total es: 65.0\n"
          ]
        }
      ]
    },
    {
      "cell_type": "markdown",
      "source": [
        "**Ejercicio 8: El desafío del dragón (Condicionales + funciones + bucles)**\n",
        "\n",
        "Diseña una función enfrentar_dragon(vida, fuerza) que simule el combate:\n",
        "\n",
        "* El jugador ataca al dragón y el dragón contraataca restando vida.\n",
        "\n",
        "* Si la vida llega a 0, el jugador pierde.\n",
        "\n",
        "* Si el jugador realiza 3 ataques consecutivos sin morir, gana.\n",
        "Usa un bucle while interno para el combate."
      ],
      "metadata": {
        "id": "d4j1ckE2V9ag"
      }
    },
    {
      "cell_type": "code",
      "source": [
        "## INICIO DE CÓDIGO\n",
        "\n",
        "# Función principal del combate\n",
        "def enfrentar_dragon(vida, fuerza):\n",
        "    print(\"¡Comienza el combate contra el dragón!\")\n",
        "    ataques_exitosos = 0\n",
        "\n",
        "    while vida > 0 and ataques_exitosos < 3:\n",
        "        print(f\"\\nTu vida actual: {vida}\")\n",
        "        input(\"Presiona Enter para atacar al dragón\")\n",
        "\n",
        "        print(\"¡Has atacado al dragón!\")\n",
        "        ataques_exitosos += 1\n",
        "\n",
        "        # Contraataque del dragón\n",
        "        daño_dragon = 10  # puedes cambiarlo si quieres\n",
        "        vida -= daño_dragon\n",
        "        print(f\"El dragón te contraataca y te quita {daño_dragon} puntos de vida.\")\n",
        "\n",
        "        if vida <= 0:\n",
        "            print(\"\\n Has sido derrotado por el dragón\")\n",
        "            return\n",
        "\n",
        "    if ataques_exitosos == 3:\n",
        "        print(\"\\n ¡Has vencido al dragón con 3 ataques exitosos!\")\n",
        "    else:\n",
        "        print(\"\\n El combate ha terminado.\")\n",
        "\n",
        "# Probando la función con valores de ejemplo\n",
        "enfrentar_dragon(vida=30, fuerza=15)\n",
        "\n",
        "## FIN DE CÓDIGO\n"
      ],
      "metadata": {
        "id": "_CGyWwuaWByi",
        "colab": {
          "base_uri": "https://localhost:8080/"
        },
        "outputId": "98698e8a-d266-47b1-9b19-a1ffc6adb080"
      },
      "execution_count": 28,
      "outputs": [
        {
          "output_type": "stream",
          "name": "stdout",
          "text": [
            "¡Comienza el combate contra el dragón!\n",
            "\n",
            "Tu vida actual: 30\n",
            "Presiona Enter para atacar al dragón\n",
            "¡Has atacado al dragón!\n",
            "El dragón te contraataca y te quita 10 puntos de vida.\n",
            "\n",
            "Tu vida actual: 20\n",
            "Presiona Enter para atacar al dragón\n",
            "¡Has atacado al dragón!\n",
            "El dragón te contraataca y te quita 10 puntos de vida.\n",
            "\n",
            "Tu vida actual: 10\n",
            "Presiona Enter para atacar al dragón\n",
            "¡Has atacado al dragón!\n",
            "El dragón te contraataca y te quita 10 puntos de vida.\n",
            "\n",
            " Has sido derrotado por el dragón\n"
          ]
        }
      ]
    },
    {
      "cell_type": "markdown",
      "source": [
        "**Ejercicio 9: El camino del héroe (Recursividad sencilla)**\n",
        "\n",
        "Crea una función recursiva que simule el camino de un héroe cruzando N obstáculos, mostrando mensajes como:\n",
        "\n",
        "\"Obstáculo 3: saltando...\"\n",
        "\n",
        "Termina cuando N llegue a 0."
      ],
      "metadata": {
        "id": "8X5Y08fQWCFU"
      }
    },
    {
      "cell_type": "code",
      "source": [
        "## INICIO DE CÓDIGO\n",
        "\n",
        "# Función recursiva\n",
        "def cruzar_obstaculos(n):\n",
        "    if n == 0:\n",
        "        print(\"El héroe ha cruzado todos los obstáculos.\")\n",
        "        return\n",
        "    print(f\"Obstáculo {n}: saltando\")\n",
        "    cruzar_obstaculos(n - 1)\n",
        "\n",
        "# Llamando a la función\n",
        "obstaculos = int(input(\"¿Cuántos obstáculos debe cruzar el héroe? \"))\n",
        "cruzar_obstaculos(obstaculos)\n",
        "\n",
        "## FIN DE CÓDIGO\n"
      ],
      "metadata": {
        "id": "vVDjZHSVWJdQ",
        "colab": {
          "base_uri": "https://localhost:8080/"
        },
        "outputId": "b362b20c-e325-44e6-c052-1f932b692679"
      },
      "execution_count": 30,
      "outputs": [
        {
          "output_type": "stream",
          "name": "stdout",
          "text": [
            "¿Cuántos obstáculos debe cruzar el héroe? 6\n",
            "Obstáculo 6: saltando\n",
            "Obstáculo 5: saltando\n",
            "Obstáculo 4: saltando\n",
            "Obstáculo 3: saltando\n",
            "Obstáculo 2: saltando\n",
            "Obstáculo 1: saltando\n",
            "El héroe ha cruzado todos los obstáculos.\n"
          ]
        }
      ]
    },
    {
      "cell_type": "markdown",
      "source": [
        "**Ejercicio 10: Torre de los hechizos (Reto Integrador Final)**\n",
        "\n",
        "Crea un programa completo que combine:\n",
        "\n",
        "* Elección de personaje.\n",
        "\n",
        "* Simulación de un combate contra un enemigo con vida y defensa.\n",
        "\n",
        "* Uso de funciones para calcular el daño.\n",
        "\n",
        "* Bucles para turnos de combate.\n",
        "\n",
        "* Uso de una función recursiva que simule las rondas como niveles (nivel 1, 2, 3 hasta ganar).\n",
        "\n"
      ],
      "metadata": {
        "id": "Behbpl_8WJzR"
      }
    },
    {
      "cell_type": "code",
      "source": [
        "## INICIO DE CÓDIGO\n",
        "\n",
        "import random\n",
        "\n",
        "# Función para seleccionar personaje\n",
        "def elegir_personaje():\n",
        "    print(\"¡Bienvenido a la Torre de los Hechizos!\\n\")\n",
        "    print(\"Elige tu personaje:\")\n",
        "    print(\"Mago\\nGuerrero\\nArquero\\n\")\n",
        "\n",
        "    while True:\n",
        "        personaje = input(\"Ingrese el nombre del personaje: \").strip().lower()\n",
        "        if personaje == \"mago\":\n",
        "            return {\"nombre\": \"Mago\", \"vida\": 60, \"fuerza\": 70, \"defensa\": 50}\n",
        "        elif personaje == \"guerrero\":\n",
        "            return {\"nombre\": \"Guerrero\", \"vida\": 100, \"fuerza\": 90, \"defensa\": 80}\n",
        "        elif personaje == \"arquero\":\n",
        "            return {\"nombre\": \"Arquero\", \"vida\": 50, \"fuerza\": 40, \"defensa\": 60}\n",
        "        else:\n",
        "            print(\"Personaje inválido, intenta nuevamente.\")\n",
        "\n",
        "# Función para calcular el daño\n",
        "def calcular_danio(fuerza, defensa_enemiga):\n",
        "    critico = random.randint(0, 50)\n",
        "    danio = fuerza + (fuerza * critico / 100) - defensa_enemiga\n",
        "    return max(0, round(danio, 1))\n",
        "\n",
        "# Combate por turnos\n",
        "def combate(jugador, nivel):\n",
        "    enemigo = {\"nombre\": f\"Enemigo Nivel {nivel}\", \"vida\": 60 + nivel * 20, \"defensa\": 30 + nivel * 5}\n",
        "    print(f\"\\nIniciando combate contra {enemigo['nombre']}\")\n",
        "\n",
        "    while jugador[\"vida\"] > 0 and enemigo[\"vida\"] > 0:\n",
        "        input(\"\\nPresiona Enter para atacar...\")\n",
        "\n",
        "        danio_jugador = calcular_danio(jugador[\"fuerza\"], enemigo[\"defensa\"])\n",
        "        enemigo[\"vida\"] -= danio_jugador\n",
        "        print(f\"Has causado {danio_jugador} de daño. Vida del enemigo: {max(0, enemigo['vida'])}\")\n",
        "\n",
        "        if enemigo[\"vida\"] <= 0:\n",
        "            print(\"¡Has derrotado al enemigo!\")\n",
        "            return True\n",
        "\n",
        "        danio_enemigo = random.randint(10, 25)\n",
        "        jugador[\"vida\"] -= danio_enemigo\n",
        "        print(f\"El enemigo te ataca y te causa {danio_enemigo} de daño. Tu vida: {max(0, jugador['vida'])}\")\n",
        "\n",
        "    if jugador[\"vida\"] <= 0:\n",
        "        print(\"Has sido derrotado.\")\n",
        "        return False\n",
        "\n",
        "# Función recursiva para avanzar por niveles\n",
        "def jugar_nivel(nivel, jugador):\n",
        "    if nivel > 3:\n",
        "        print(\"\\n¡Felicidades! Has superado la torre.\")\n",
        "        return\n",
        "    print(f\"\\nEntrando al Nivel {nivel}...\")\n",
        "\n",
        "    if combate(jugador, nivel):\n",
        "        jugar_nivel(nivel + 1, jugador)\n",
        "    else:\n",
        "        print(\"\\nFin del juego.\")\n",
        "\n",
        "# Programa principal\n",
        "personaje = elegir_personaje()\n",
        "jugar_nivel(1, personaje)\n",
        "\n",
        "## FIN DE CÓDIGO\n"
      ],
      "metadata": {
        "id": "smtLq1SDWTJd",
        "colab": {
          "base_uri": "https://localhost:8080/"
        },
        "outputId": "8d53201e-56d4-4a4b-d3f8-475531f53570"
      },
      "execution_count": 34,
      "outputs": [
        {
          "output_type": "stream",
          "name": "stdout",
          "text": [
            "¡Bienvenido a la Torre de los Hechizos!\n",
            "\n",
            "Elige tu personaje:\n",
            "Mago\n",
            "Guerrero\n",
            "Arquero\n",
            "\n",
            "Ingrese el nombre del personaje: guerrero\n",
            "\n",
            "Entrando al Nivel 1...\n",
            "\n",
            "Iniciando combate contra Enemigo Nivel 1\n",
            "\n",
            "Presiona Enter para atacar...\n",
            "Has causado 69.4 de daño. Vida del enemigo: 10.599999999999994\n",
            "El enemigo te ataca y te causa 15 de daño. Tu vida: 85\n",
            "\n",
            "Presiona Enter para atacar...\n",
            "Has causado 82.0 de daño. Vida del enemigo: 0\n",
            "¡Has derrotado al enemigo!\n",
            "\n",
            "Entrando al Nivel 2...\n",
            "\n",
            "Iniciando combate contra Enemigo Nivel 2\n",
            "\n",
            "Presiona Enter para atacar...\n",
            "Has causado 80.6 de daño. Vida del enemigo: 19.400000000000006\n",
            "El enemigo te ataca y te causa 19 de daño. Tu vida: 66\n",
            "\n",
            "Presiona Enter para atacar...\n",
            "Has causado 51.8 de daño. Vida del enemigo: 0\n",
            "¡Has derrotado al enemigo!\n",
            "\n",
            "Entrando al Nivel 3...\n",
            "\n",
            "Iniciando combate contra Enemigo Nivel 3\n",
            "\n",
            "Presiona Enter para atacar...\n",
            "Has causado 62.1 de daño. Vida del enemigo: 57.9\n",
            "El enemigo te ataca y te causa 18 de daño. Tu vida: 48\n",
            "\n",
            "Presiona Enter para atacar...\n",
            "Has causado 54.9 de daño. Vida del enemigo: 3.0\n",
            "El enemigo te ataca y te causa 20 de daño. Tu vida: 28\n",
            "\n",
            "Presiona Enter para atacar...\n",
            "Has causado 68.4 de daño. Vida del enemigo: 0\n",
            "¡Has derrotado al enemigo!\n",
            "\n",
            "¡Felicidades! Has superado la torre.\n"
          ]
        }
      ]
    },
    {
      "cell_type": "markdown",
      "source": [
        "---\n",
        "\n",
        "# Gracias por completar este laboratorio!\n",
        "\n",
        "---\n"
      ],
      "metadata": {
        "id": "EONqoa25Wlx3"
      }
    }
  ]
}